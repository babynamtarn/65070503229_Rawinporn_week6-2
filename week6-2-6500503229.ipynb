{
  "nbformat": 4,
  "nbformat_minor": 0,
  "metadata": {
    "colab": {
      "provenance": [],
      "authorship_tag": "ABX9TyPLRUKru8GyYRdeO7WOVfHi",
      "include_colab_link": true
    },
    "kernelspec": {
      "name": "python3",
      "display_name": "Python 3"
    },
    "language_info": {
      "name": "python"
    }
  },
  "cells": [
    {
      "cell_type": "markdown",
      "metadata": {
        "id": "view-in-github",
        "colab_type": "text"
      },
      "source": [
        "<a href=\"https://colab.research.google.com/github/babynamtarn/65070503229_Rawinporn_week6-2/blob/main/week6-2-6500503229.ipynb\" target=\"_parent\"><img src=\"https://colab.research.google.com/assets/colab-badge.svg\" alt=\"Open In Colab\"/></a>"
      ]
    },
    {
      "cell_type": "code",
      "execution_count": 1,
      "metadata": {
        "id": "3XCWzjhT_5Mj"
      },
      "outputs": [],
      "source": [
        "# 1. Define a class \"Person\"\n",
        "class Person:\n",
        "    # 2. Add __init__ method\n",
        "    def __init__(self, name, age):\n",
        "        self.name = name\n",
        "        self.age = age\n",
        "\n",
        "    # 3. Add display_info method\n",
        "    def display_info(self):\n",
        "        print(f\"Name: {self.name}, Age: {self.age}\")"
      ]
    },
    {
      "cell_type": "code",
      "source": [
        "# 1. Define a class \"Student\" that inherits from \"Person\"\n",
        "class Student(Person):\n",
        "    # 2. Add __init__ with super()\n",
        "    def __init__(self, name, age):\n",
        "        super().__init__(name, age)\n",
        "        # 3. Add marks dictionary\n",
        "        self.marks = {}\n",
        "\n",
        "    # 4. Implement add_mark method\n",
        "    def add_mark(self, subject, score):\n",
        "        if subject in self.marks:\n",
        "            self.marks[subject] = score\n",
        "            print(f\"Updated {subject} = {score}\")\n",
        "        else:\n",
        "            self.marks[subject] = score\n",
        "            print(f\"Added {subject} = {score}\")\n",
        "\n",
        "    # 5. Implement display_marks method\n",
        "    def display_marks(self):\n",
        "        if not self.marks:\n",
        "            print(\"No marks available.\")\n",
        "        else:\n",
        "            print(\"Marks:\")\n",
        "            for subject, score in self.marks.items():\n",
        "                print(f\"{subject}: {score}\")\n",
        "\n",
        "    # 6. Implement average method\n",
        "    def average(self):\n",
        "        if not self.marks:\n",
        "            return 0\n",
        "        return sum(self.marks.values()) / len(self.marks)"
      ],
      "metadata": {
        "id": "EOTHVAoXADbA"
      },
      "execution_count": 2,
      "outputs": []
    },
    {
      "cell_type": "code",
      "source": [
        "# 1. Create one Student with name and age\n",
        "student1 = Student(\"Alice\", 16)\n",
        "\n",
        "# 2. Call display_info()\n",
        "student1.display_info()\n",
        "\n",
        "# 3. Add at least two subject marks\n",
        "student1.add_mark(\"Math\", 85)\n",
        "student1.add_mark(\"Science\", 90)\n",
        "\n",
        "# 4. Call display_marks()\n",
        "student1.display_marks()\n",
        "\n",
        "# 5. Print the average score"
      ],
      "metadata": {
        "colab": {
          "base_uri": "https://localhost:8080/"
        },
        "id": "v3Dx4JHBAFft",
        "outputId": "2c74a2f4-c202-4e34-b021-91fbf7b38137"
      },
      "execution_count": 3,
      "outputs": [
        {
          "output_type": "stream",
          "name": "stdout",
          "text": [
            "Name: Alice, Age: 16\n",
            "Added Math = 85\n",
            "Added Science = 90\n",
            "Marks:\n",
            "Math: 85\n",
            "Science: 90\n"
          ]
        }
      ]
    }
  ]
}