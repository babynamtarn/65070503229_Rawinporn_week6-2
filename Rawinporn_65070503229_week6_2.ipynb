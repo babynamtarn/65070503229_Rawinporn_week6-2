{
 "cells": [
  {
   "cell_type": "code",
   "execution_count": 1,
   "id": "f9822ce3",
   "metadata": {},
   "outputs": [],
   "source": [
    "# Step 1: Parent Class - Person\n",
    "class Person:\n",
    "    def __init__(self, name, age):\n",
    "        self.name = name\n",
    "        self.age = age\n",
    "\n",
    "    def display_info(self):\n",
    "        print(f\"Name: {self.name}, Age: {self.age}\")"
   ]
  },
  {
   "cell_type": "code",
   "execution_count": 2,
   "id": "6d27ec98",
   "metadata": {},
   "outputs": [],
   "source": [
    "\n",
    "class Student(Person):\n",
    "    def __init__(self, name, age):\n",
    "        super().__init__(name, age)\n",
    "        self.marks = {}\n",
    "\n",
    "    def add_mark(self, subject, score):\n",
    "        if subject in self.marks:\n",
    "            print(f\"Updated {subject} = {score}\")\n",
    "        else:\n",
    "            print(f\"Added {subject} = {score}\")\n",
    "        self.marks[subject] = score\n",
    "\n",
    "    def display_marks(self):\n",
    "        if not self.marks:\n",
    "            print(\"No marks available.\")\n",
    "        else:\n",
    "            print(\"Marks:\")\n",
    "            for subject, score in self.marks.items():\n",
    "                print(f\"  {subject}: {score}\")\n",
    "\n",
    "    def average(self):\n",
    "        if not self.marks:\n",
    "            return 0\n",
    "        return sum(self.marks.values()) / len(self.marks)\n"
   ]
  },
  {
   "cell_type": "code",
   "execution_count": 3,
   "id": "b51899e0",
   "metadata": {},
   "outputs": [
    {
     "name": "stdout",
     "output_type": "stream",
     "text": [
      "Name: Alice, Age: 17\n"
     ]
    }
   ],
   "source": [
    "\n",
    "student1 = Student(\"Alice\", 17)\n",
    "student1.display_info()\n",
    "\n"
   ]
  },
  {
   "cell_type": "code",
   "execution_count": 4,
   "id": "ec92dc2b",
   "metadata": {},
   "outputs": [
    {
     "name": "stdout",
     "output_type": "stream",
     "text": [
      "Added Math = 85\n",
      "Added Science = 90\n"
     ]
    }
   ],
   "source": [
    "# Add subject marks\n",
    "student1.add_mark(\"Math\", 85)\n",
    "student1.add_mark(\"Science\", 90)\n",
    "\n"
   ]
  },
  {
   "cell_type": "code",
   "execution_count": null,
   "id": "431913ad",
   "metadata": {},
   "outputs": [],
   "source": [
    "# Display all marks\n",
    "student1.display_marks()\n",
    "\n"
   ]
  },
  {
   "cell_type": "code",
   "execution_count": 5,
   "id": "4fdcf412",
   "metadata": {},
   "outputs": [
    {
     "name": "stdout",
     "output_type": "stream",
     "text": [
      "Average Score: 87.50\n"
     ]
    }
   ],
   "source": [
    "# Display average\n",
    "avg = student1.average()\n",
    "print(f\"Average Score: {avg:.2f}\")"
   ]
  },
  {
   "cell_type": "code",
   "execution_count": null,
   "id": "5c7609c3",
   "metadata": {},
   "outputs": [],
   "source": []
  }
 ],
 "metadata": {
  "kernelspec": {
   "display_name": "Python 3",
   "language": "python",
   "name": "python3"
  },
  "language_info": {
   "codemirror_mode": {
    "name": "ipython",
    "version": 3
   },
   "file_extension": ".py",
   "mimetype": "text/x-python",
   "name": "python",
   "nbconvert_exporter": "python",
   "pygments_lexer": "ipython3",
   "version": "3.12.6"
  }
 },
 "nbformat": 4,
 "nbformat_minor": 5
}
